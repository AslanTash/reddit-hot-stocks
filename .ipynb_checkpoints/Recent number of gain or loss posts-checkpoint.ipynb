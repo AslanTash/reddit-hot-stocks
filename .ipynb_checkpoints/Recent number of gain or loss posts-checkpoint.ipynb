{
 "cells": [
  {
   "cell_type": "code",
   "execution_count": 11,
   "metadata": {},
   "outputs": [
    {
     "name": "stdout",
     "output_type": "stream",
     "text": [
      "74\n",
      "40\n"
     ]
    }
   ],
   "source": [
    "import time\n",
    "import praw\n",
    "from praw.models import MoreComments\n",
    "import pandas as pd\n",
    "import datetime as dt\n",
    "\n",
    "begin_time = time.mktime(dt.datetime(2020,12,30,0).timetuple())\n",
    "end_time = time.mktime(dt.datetime(2020,12,31,0).timetuple())\n",
    "\n",
    "reddit = praw.Reddit(\n",
    "    client_id=\"Rjebfa4tSA031Q\",\n",
    "    client_secret=\"pnTSAGAKGej0mmnAuU8JH_pZLlhqUg\",\n",
    "    user_agent=\"hot-stocks by aslanbuilds\"\n",
    ")\n",
    "subreddit = reddit.subreddit('wallstreetbets')\n",
    "new_posts = subreddit.new(limit=2000)\n",
    "\n",
    "# bull = 0 # calls, green, bull, bullish, buy\n",
    "# bear = 0 # puts, red, down, bear, sell, selling, fuck\n",
    "# bull_terms = [\"buy\", \"calls\"]\n",
    "# bear_terms = [\"buy\", \"puts\"]\n",
    "# bull_context = []\n",
    "# bear_context = []\n",
    "\n",
    "# daily = reddit.submission(id=\"ilege0\")\n",
    "\n",
    "# for top_level_comment in daily.comments:\n",
    "#     if isinstance(top_level_comment, MoreComments):\n",
    "#         continue\n",
    "#     comment = top_level_comment.body\n",
    "    \n",
    "#     if all(x in comment for x in bull_terms):\n",
    "#         bull_context.append(comment)\n",
    "#         bull = bull + 1\n",
    "#     if all(x in comment for x in bear_terms):\n",
    "#         bear_context.append(comment)\n",
    "#         bear = bear + 1\n",
    "\n",
    "# print(bull)\n",
    "# print(bear)\n",
    "\n",
    "\n",
    "posts_dict = { \"title\":[], \\\n",
    "                \"score\":[], \\\n",
    "                \"id\":[], \\\n",
    "                \"url\":[], \\\n",
    "                \"num_comments\": [], \\\n",
    "                \"created\": [], \\\n",
    "                \"body\":[], \\\n",
    "                \"flair\":[], \\\n",
    "                \"upvote_ratio\":[]}\n",
    "for submission in new_posts:\n",
    "    posts_dict[\"title\"].append(submission.title)\n",
    "    posts_dict[\"score\"].append(submission.score)\n",
    "    posts_dict[\"id\"].append(submission.id)\n",
    "    posts_dict[\"url\"].append(submission.url)\n",
    "    posts_dict[\"num_comments\"].append(submission.num_comments)\n",
    "    posts_dict[\"created\"].append(submission.created_utc)\n",
    "    posts_dict[\"body\"].append(submission.selftext)\n",
    "    posts_dict[\"flair\"].append(submission.link_flair_text)\n",
    "    posts_dict[\"upvote_ratio\"].append(submission.upvote_ratio)\n",
    "\n",
    "posts_data = pd.DataFrame(posts_dict)\n",
    "\n",
    "def get_gain_loss_flairs(posts_data):\n",
    "    gain = 0\n",
    "    loss = 0\n",
    "    for flair in posts_data[\"flair\"]:\n",
    "        if flair == \"Gain\":\n",
    "            gain = gain +1\n",
    "        if flair == \"Loss\":\n",
    "            loss = loss + 1\n",
    "    return [gain,loss]\n",
    "\n",
    "gain_loss_pair = get_gain_loss_flairs(posts_data)\n",
    "num_gains = gain_loss_pair[0]\n",
    "num_losses = gain_loss_pair[1]\n",
    "print(\"In the last 2000 posts, the number of gains and losses were:\")\n",
    "print(num_gains)\n",
    "print(num_losses)\n"
   ]
  },
  {
   "cell_type": "code",
   "execution_count": null,
   "metadata": {},
   "outputs": [],
   "source": []
  }
 ],
 "metadata": {
  "kernelspec": {
   "display_name": "Python 3",
   "language": "python",
   "name": "python3"
  },
  "language_info": {
   "codemirror_mode": {
    "name": "ipython",
    "version": 3
   },
   "file_extension": ".py",
   "mimetype": "text/x-python",
   "name": "python",
   "nbconvert_exporter": "python",
   "pygments_lexer": "ipython3",
   "version": "3.7.6"
  }
 },
 "nbformat": 4,
 "nbformat_minor": 4
}
