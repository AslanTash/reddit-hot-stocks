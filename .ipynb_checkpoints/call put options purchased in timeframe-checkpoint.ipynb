{
 "cells": [
  {
   "cell_type": "code",
   "execution_count": 2,
   "metadata": {},
   "outputs": [
    {
     "name": "stdout",
     "output_type": "stream",
     "text": [
      "|**PLTR**|**$31**|**BUY CALL**|**2021-01-15**|**$0.92**|**$26.195**|**4292**|**4499**\n",
      "|**YY**|**$85**|**BUY PUT**|**2021-05-21**|**$17.23**|**$76.1**|**111**|**5**\n",
      "|**MT**|**$25**|**BUY CALL**|**2021-03-19**|**$1.65**|**$23.15**|**4651**|**0**\n",
      "|**GME**|**$35**|**BUY CALL**|**2021-01-22**|**$0.82**|**$20.15**|**32**|**0**\n",
      "|**FB**|**$160**|**BUY PUT**|**2021-01-22**|**$0.26**|**$267.4**|**2**|**0**\n",
      "|**DKNG**|**$70**|**BUY CALL**|**2022-01-21**|**$9.83**|**$52.11**|**2121**|**72**\n",
      "|**XL**|**$35**|**BUY CALL**|**2021-01-15**|**$3.13**|**$29.78**|**0**|**3693**\n",
      "|**DKNG**|**$70**|**BUY CALL**|**2022-01-21**|**$9.83**|**$52.11**|**2121**|**72**\n",
      "|**SNAP**|**$53**|**BUY CALL**|**2021-01-15**|**$1.4**|**$50.15**|**564**|**6831**\n",
      "|**GME**|**$15.5**|**BUY CALL**|**2021-01-15**|**$5.32**|**$20.15**|**203**|**16**\n",
      "|**MT**|**$35**|**BUY CALL**|**2021-06-18**|**$0.8**|**$23.15**|**1322**|**311**\n",
      "|**AMZN**|**$4000**|**BUY CALL**|**2021-04-16**|**$47.1**|**$3172.69**|**517**|**44**\n",
      "|**PLTR**|**$40**|**BUY CALL**|**2021-01-15**|**$0.37**|**$27.75**|**19264**|**3093**\n",
      "|**GME**|**$25**|**BUY CALL**|**2021-01-15**|**$1.63**|**$20.15**|**13462**|**1011**\n",
      "|**TSLA**|**$660**|**BUY CALL**|**2020-12-31**|**$16.18**|**$661.77**|**4762**|**17338**\n",
      "|**ICLN**|**$30**|**BUY CALL**|**2021-07-16**|**$3.33**|**$27.71**|**9136**|**65**\n",
      "|**ARKG**|**$105**|**BUY CALL**|**2021-07-16**|**$15.4**|**$103.1**|**377**|**81**\n",
      "|**GME**|**$22**|**BUY CALL**|**2020-12-31**|**$0.74**|**$20.15**|**2964**|**3024**\n",
      "|**GME**|**$25**|**BUY CALL**|**2020-12-31**|**$0.39**|**$20.15**|**4268**|**4213**\n",
      "|**PLTR**|**$50**|**BUY CALL**|**2020-12-31**|**$0.01**|**$27.75**|**2775**|**76**\n",
      "|**CERN**|**$85**|**BUY CALL**|**2021-03-19**|**$1.68**|**$78.41**|**711**|**0**\n",
      "|**TSLA**|**$600**|**BUY PUT**|**2020-12-31**|**$2.01**|**$661.77**|**7344**|**5948**\n",
      "|**TSLA**|**$700**|**BUY CALL**|**2020-12-31**|**$3.57**|**$661.77**|**12635**|**29900**\n",
      "|**PGR**|**$100**|**BUY CALL**|**2021-02-19**|**$1.53**|**$98.22**|**1059**|**16**\n",
      "|**FSLR**|**$130**|**BUY CALL**|**2021-01-15**|**$0.43**|**$100.17**|**264**|**1**\n",
      "22\n",
      "3\n"
     ]
    }
   ],
   "source": [
    "import time\n",
    "import praw\n",
    "from praw.models import MoreComments\n",
    "import pandas as pd\n",
    "import datetime as dt\n",
    "calls = 0\n",
    "puts = 0\n",
    "# Scan the posts by pickbot between the given dates below.\n",
    "begin_time = time.mktime(dt.datetime(2020,12,24,9).timetuple())\n",
    "end_time = time.mktime(dt.datetime(2020,12,28,16).timetuple())\n",
    "reddit = praw.Reddit(\n",
    "    client_id=\"Rjebfa4tSA031Q\",\n",
    "    client_secret=\"pnTSAGAKGej0mmnAuU8JH_pZLlhqUg\",\n",
    "    user_agent=\"hot-stocks by aslanbuilds\"\n",
    ")\n",
    "\n",
    "for comment in reddit.redditor(\"pickbot\").comments.new(limit=1000):\n",
    "    if comment.created_utc < end_time and comment.created_utc > begin_time:\n",
    "        content = comment.body.split(\"\\n\")\n",
    "        try:\n",
    "            print(content[4])\n",
    "            if \"CALL\" in content[4]:\n",
    "                calls = calls+1\n",
    "            if \"PUT\" in content[4]:\n",
    "                puts = puts+1\n",
    "        except:\n",
    "            continue\n",
    "#     print(content[4:len(content)-4])\n",
    "\n",
    "print(calls)\n",
    "print(puts)"
   ]
  },
  {
   "cell_type": "code",
   "execution_count": null,
   "metadata": {},
   "outputs": [],
   "source": []
  }
 ],
 "metadata": {
  "kernelspec": {
   "display_name": "Python 3",
   "language": "python",
   "name": "python3"
  },
  "language_info": {
   "codemirror_mode": {
    "name": "ipython",
    "version": 3
   },
   "file_extension": ".py",
   "mimetype": "text/x-python",
   "name": "python",
   "nbconvert_exporter": "python",
   "pygments_lexer": "ipython3",
   "version": "3.7.6"
  }
 },
 "nbformat": 4,
 "nbformat_minor": 4
}
